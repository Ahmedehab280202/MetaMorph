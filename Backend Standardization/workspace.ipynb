{
 "cells": [
  {
   "cell_type": "code",
   "execution_count": 1,
   "metadata": {},
   "outputs": [
    {
     "data": {
      "text/html": [
       "<div>\n",
       "<style scoped>\n",
       "    .dataframe tbody tr th:only-of-type {\n",
       "        vertical-align: middle;\n",
       "    }\n",
       "\n",
       "    .dataframe tbody tr th {\n",
       "        vertical-align: top;\n",
       "    }\n",
       "\n",
       "    .dataframe thead th {\n",
       "        text-align: right;\n",
       "    }\n",
       "</style>\n",
       "<table border=\"1\" class=\"dataframe\">\n",
       "  <thead>\n",
       "    <tr style=\"text-align: right;\">\n",
       "      <th></th>\n",
       "      <th>Id</th>\n",
       "      <th>Name</th>\n",
       "      <th>Shape Library</th>\n",
       "      <th>Page ID</th>\n",
       "      <th>Contained By</th>\n",
       "      <th>Group</th>\n",
       "      <th>Status</th>\n",
       "      <th>Text Area 1</th>\n",
       "      <th>Text Area 2</th>\n",
       "      <th>Text Area 3</th>\n",
       "      <th>Comments</th>\n",
       "    </tr>\n",
       "  </thead>\n",
       "  <tbody>\n",
       "    <tr>\n",
       "      <th>0</th>\n",
       "      <td>1</td>\n",
       "      <td>Document</td>\n",
       "      <td>NaN</td>\n",
       "      <td>NaN</td>\n",
       "      <td>NaN</td>\n",
       "      <td>NaN</td>\n",
       "      <td>Draft</td>\n",
       "      <td>Blank diagram</td>\n",
       "      <td>NaN</td>\n",
       "      <td>NaN</td>\n",
       "      <td>NaN</td>\n",
       "    </tr>\n",
       "    <tr>\n",
       "      <th>1</th>\n",
       "      <td>3</td>\n",
       "      <td>Class</td>\n",
       "      <td>UML</td>\n",
       "      <td>2.0</td>\n",
       "      <td>NaN</td>\n",
       "      <td>NaN</td>\n",
       "      <td>NaN</td>\n",
       "      <td>Car</td>\n",
       "      <td>​+ brand:String = 'bmw'\\n+ name:String\\n- pric...</td>\n",
       "      <td>​+ calcPrice(int year):int</td>\n",
       "      <td>NaN</td>\n",
       "    </tr>\n",
       "  </tbody>\n",
       "</table>\n",
       "</div>"
      ],
      "text/plain": [
       "   Id      Name Shape Library  Page ID  Contained By  Group Status  \\\n",
       "0   1  Document           NaN      NaN           NaN    NaN  Draft   \n",
       "1   3     Class           UML      2.0           NaN    NaN    NaN   \n",
       "\n",
       "     Text Area 1                                        Text Area 2  \\\n",
       "0  Blank diagram                                                NaN   \n",
       "1            Car  ​+ brand:String = 'bmw'\\n+ name:String\\n- pric...   \n",
       "\n",
       "                  Text Area 3  Comments  \n",
       "0                         NaN       NaN  \n",
       "1  ​+ calcPrice(int year):int       NaN  "
      ]
     },
     "execution_count": 1,
     "metadata": {},
     "output_type": "execute_result"
    }
   ],
   "source": [
    "import pandas as pd\n",
    "diagram_csv = pd.read_csv('./tests/test_diagram_1.csv')\n",
    "diagram_csv"
   ]
  },
  {
   "cell_type": "code",
   "execution_count": 2,
   "metadata": {},
   "outputs": [
    {
     "data": {
      "text/html": [
       "<div>\n",
       "<style scoped>\n",
       "    .dataframe tbody tr th:only-of-type {\n",
       "        vertical-align: middle;\n",
       "    }\n",
       "\n",
       "    .dataframe tbody tr th {\n",
       "        vertical-align: top;\n",
       "    }\n",
       "\n",
       "    .dataframe thead th {\n",
       "        text-align: right;\n",
       "    }\n",
       "</style>\n",
       "<table border=\"1\" class=\"dataframe\">\n",
       "  <thead>\n",
       "    <tr style=\"text-align: right;\">\n",
       "      <th></th>\n",
       "      <th>Id</th>\n",
       "      <th>Name</th>\n",
       "      <th>Shape Library</th>\n",
       "      <th>Page ID</th>\n",
       "      <th>Contained By</th>\n",
       "      <th>Group</th>\n",
       "      <th>Status</th>\n",
       "      <th>Text Area 1</th>\n",
       "      <th>Text Area 2</th>\n",
       "      <th>Text Area 3</th>\n",
       "      <th>Comments</th>\n",
       "    </tr>\n",
       "  </thead>\n",
       "  <tbody>\n",
       "    <tr>\n",
       "      <th>1</th>\n",
       "      <td>3</td>\n",
       "      <td>Class</td>\n",
       "      <td>UML</td>\n",
       "      <td>2.0</td>\n",
       "      <td>NaN</td>\n",
       "      <td>NaN</td>\n",
       "      <td>NaN</td>\n",
       "      <td>Car</td>\n",
       "      <td>​+ brand:String = 'bmw'\\n+ name:String\\n- pric...</td>\n",
       "      <td>​+ calcPrice(int year):int</td>\n",
       "      <td>NaN</td>\n",
       "    </tr>\n",
       "  </tbody>\n",
       "</table>\n",
       "</div>"
      ],
      "text/plain": [
       "   Id   Name Shape Library  Page ID  Contained By  Group Status Text Area 1  \\\n",
       "1   3  Class           UML      2.0           NaN    NaN    NaN         Car   \n",
       "\n",
       "                                         Text Area 2  \\\n",
       "1  ​+ brand:String = 'bmw'\\n+ name:String\\n- pric...   \n",
       "\n",
       "                  Text Area 3  Comments  \n",
       "1  ​+ calcPrice(int year):int       NaN  "
      ]
     },
     "execution_count": 2,
     "metadata": {},
     "output_type": "execute_result"
    }
   ],
   "source": [
    "diagram_csv[diagram_csv['Name'] == 'Class']"
   ]
  },
  {
   "cell_type": "code",
   "execution_count": 1,
   "metadata": {},
   "outputs": [
    {
     "name": "stdout",
     "output_type": "stream",
     "text": [
      "{\n",
      "    \"class_nodes\": [\n",
      "        {\n",
      "            \"id\": 3,\n",
      "            \"method_nodes\": [\n",
      "                {\n",
      "                    \"dtype\": \"int\",\n",
      "                    \"modifier\": \"public\",\n",
      "                    \"name\": \"calcPrice\",\n",
      "                    \"params\": \"int year\"\n",
      "                }\n",
      "            ],\n",
      "            \"name\": \"Car\",\n",
      "            \"prop_nodes\": [\n",
      "                {\n",
      "                    \"codeStr\": \"public String brand = 'bmw'\",\n",
      "                    \"defaultVal\": \"'bmw'\",\n",
      "                    \"dtype\": \"String\",\n",
      "                    \"modifier\": \"public\",\n",
      "                    \"name\": \"brand\"\n",
      "                },\n",
      "                {\n",
      "                    \"codeStr\": \"public String name \",\n",
      "                    \"defaultVal\": null,\n",
      "                    \"dtype\": \"String\",\n",
      "                    \"modifier\": \"public\",\n",
      "                    \"name\": \"name\"\n",
      "                },\n",
      "                {\n",
      "                    \"codeStr\": \"private int price \",\n",
      "                    \"defaultVal\": null,\n",
      "                    \"dtype\": \"int\",\n",
      "                    \"modifier\": \"private\",\n",
      "                    \"name\": \"price\"\n",
      "                }\n",
      "            ]\n",
      "        }\n",
      "    ],\n",
      "    \"test\": \"test\"\n",
      "}\n"
     ]
    }
   ],
   "source": [
    "from models.LucidCsvFile import LucidCsvFile\n",
    "import pandas as pd\n",
    "import json\n",
    "\n",
    "diagram_csv = pd.read_csv('./tests/test_diagram_1.csv')\n",
    "res = LucidCsvFile(diagram_csv)\n",
    "print(json.dumps(res, default=lambda o: o.__dict__, sort_keys=True, indent=4))"
   ]
  },
  {
   "cell_type": "code",
   "execution_count": 6,
   "metadata": {},
   "outputs": [
    {
     "ename": "TypeError",
     "evalue": "Object of type LucidCsvFile is not JSON serializable",
     "output_type": "error",
     "traceback": [
      "\u001b[1;31m---------------------------------------------------------------------------\u001b[0m",
      "\u001b[1;31mTypeError\u001b[0m                                 Traceback (most recent call last)",
      "Cell \u001b[1;32mIn[6], line 3\u001b[0m\n\u001b[0;32m      1\u001b[0m \u001b[39mimport\u001b[39;00m \u001b[39mjson\u001b[39;00m\n\u001b[1;32m----> 3\u001b[0m \u001b[39mprint\u001b[39m(json\u001b[39m.\u001b[39;49mdumps(res))\n",
      "File \u001b[1;32md:\\Users\\Lenovo\\AppData\\Local\\Programs\\Python\\Python312\\Lib\\json\\__init__.py:231\u001b[0m, in \u001b[0;36mdumps\u001b[1;34m(obj, skipkeys, ensure_ascii, check_circular, allow_nan, cls, indent, separators, default, sort_keys, **kw)\u001b[0m\n\u001b[0;32m    226\u001b[0m \u001b[39m# cached encoder\u001b[39;00m\n\u001b[0;32m    227\u001b[0m \u001b[39mif\u001b[39;00m (\u001b[39mnot\u001b[39;00m skipkeys \u001b[39mand\u001b[39;00m ensure_ascii \u001b[39mand\u001b[39;00m\n\u001b[0;32m    228\u001b[0m     check_circular \u001b[39mand\u001b[39;00m allow_nan \u001b[39mand\u001b[39;00m\n\u001b[0;32m    229\u001b[0m     \u001b[39mcls\u001b[39m \u001b[39mis\u001b[39;00m \u001b[39mNone\u001b[39;00m \u001b[39mand\u001b[39;00m indent \u001b[39mis\u001b[39;00m \u001b[39mNone\u001b[39;00m \u001b[39mand\u001b[39;00m separators \u001b[39mis\u001b[39;00m \u001b[39mNone\u001b[39;00m \u001b[39mand\u001b[39;00m\n\u001b[0;32m    230\u001b[0m     default \u001b[39mis\u001b[39;00m \u001b[39mNone\u001b[39;00m \u001b[39mand\u001b[39;00m \u001b[39mnot\u001b[39;00m sort_keys \u001b[39mand\u001b[39;00m \u001b[39mnot\u001b[39;00m kw):\n\u001b[1;32m--> 231\u001b[0m     \u001b[39mreturn\u001b[39;00m _default_encoder\u001b[39m.\u001b[39;49mencode(obj)\n\u001b[0;32m    232\u001b[0m \u001b[39mif\u001b[39;00m \u001b[39mcls\u001b[39m \u001b[39mis\u001b[39;00m \u001b[39mNone\u001b[39;00m:\n\u001b[0;32m    233\u001b[0m     \u001b[39mcls\u001b[39m \u001b[39m=\u001b[39m JSONEncoder\n",
      "File \u001b[1;32md:\\Users\\Lenovo\\AppData\\Local\\Programs\\Python\\Python312\\Lib\\json\\encoder.py:200\u001b[0m, in \u001b[0;36mJSONEncoder.encode\u001b[1;34m(self, o)\u001b[0m\n\u001b[0;32m    196\u001b[0m         \u001b[39mreturn\u001b[39;00m encode_basestring(o)\n\u001b[0;32m    197\u001b[0m \u001b[39m# This doesn't pass the iterator directly to ''.join() because the\u001b[39;00m\n\u001b[0;32m    198\u001b[0m \u001b[39m# exceptions aren't as detailed.  The list call should be roughly\u001b[39;00m\n\u001b[0;32m    199\u001b[0m \u001b[39m# equivalent to the PySequence_Fast that ''.join() would do.\u001b[39;00m\n\u001b[1;32m--> 200\u001b[0m chunks \u001b[39m=\u001b[39m \u001b[39mself\u001b[39;49m\u001b[39m.\u001b[39;49miterencode(o, _one_shot\u001b[39m=\u001b[39;49m\u001b[39mTrue\u001b[39;49;00m)\n\u001b[0;32m    201\u001b[0m \u001b[39mif\u001b[39;00m \u001b[39mnot\u001b[39;00m \u001b[39misinstance\u001b[39m(chunks, (\u001b[39mlist\u001b[39m, \u001b[39mtuple\u001b[39m)):\n\u001b[0;32m    202\u001b[0m     chunks \u001b[39m=\u001b[39m \u001b[39mlist\u001b[39m(chunks)\n",
      "File \u001b[1;32md:\\Users\\Lenovo\\AppData\\Local\\Programs\\Python\\Python312\\Lib\\json\\encoder.py:258\u001b[0m, in \u001b[0;36mJSONEncoder.iterencode\u001b[1;34m(self, o, _one_shot)\u001b[0m\n\u001b[0;32m    253\u001b[0m \u001b[39melse\u001b[39;00m:\n\u001b[0;32m    254\u001b[0m     _iterencode \u001b[39m=\u001b[39m _make_iterencode(\n\u001b[0;32m    255\u001b[0m         markers, \u001b[39mself\u001b[39m\u001b[39m.\u001b[39mdefault, _encoder, \u001b[39mself\u001b[39m\u001b[39m.\u001b[39mindent, floatstr,\n\u001b[0;32m    256\u001b[0m         \u001b[39mself\u001b[39m\u001b[39m.\u001b[39mkey_separator, \u001b[39mself\u001b[39m\u001b[39m.\u001b[39mitem_separator, \u001b[39mself\u001b[39m\u001b[39m.\u001b[39msort_keys,\n\u001b[0;32m    257\u001b[0m         \u001b[39mself\u001b[39m\u001b[39m.\u001b[39mskipkeys, _one_shot)\n\u001b[1;32m--> 258\u001b[0m \u001b[39mreturn\u001b[39;00m _iterencode(o, \u001b[39m0\u001b[39;49m)\n",
      "File \u001b[1;32md:\\Users\\Lenovo\\AppData\\Local\\Programs\\Python\\Python312\\Lib\\json\\encoder.py:180\u001b[0m, in \u001b[0;36mJSONEncoder.default\u001b[1;34m(self, o)\u001b[0m\n\u001b[0;32m    161\u001b[0m \u001b[39mdef\u001b[39;00m \u001b[39mdefault\u001b[39m(\u001b[39mself\u001b[39m, o):\n\u001b[0;32m    162\u001b[0m \u001b[39m    \u001b[39m\u001b[39m\"\"\"Implement this method in a subclass such that it returns\u001b[39;00m\n\u001b[0;32m    163\u001b[0m \u001b[39m    a serializable object for ``o``, or calls the base implementation\u001b[39;00m\n\u001b[0;32m    164\u001b[0m \u001b[39m    (to raise a ``TypeError``).\u001b[39;00m\n\u001b[1;32m   (...)\u001b[0m\n\u001b[0;32m    178\u001b[0m \n\u001b[0;32m    179\u001b[0m \u001b[39m    \"\"\"\u001b[39;00m\n\u001b[1;32m--> 180\u001b[0m     \u001b[39mraise\u001b[39;00m \u001b[39mTypeError\u001b[39;00m(\u001b[39mf\u001b[39m\u001b[39m'\u001b[39m\u001b[39mObject of type \u001b[39m\u001b[39m{\u001b[39;00mo\u001b[39m.\u001b[39m\u001b[39m__class__\u001b[39m\u001b[39m.\u001b[39m\u001b[39m__name__\u001b[39m\u001b[39m}\u001b[39;00m\u001b[39m \u001b[39m\u001b[39m'\u001b[39m\n\u001b[0;32m    181\u001b[0m                     \u001b[39mf\u001b[39m\u001b[39m'\u001b[39m\u001b[39mis not JSON serializable\u001b[39m\u001b[39m'\u001b[39m)\n",
      "\u001b[1;31mTypeError\u001b[0m: Object of type LucidCsvFile is not JSON serializable"
     ]
    }
   ],
   "source": [
    "import json\n",
    "\n",
    "print(json.dumps(res))"
   ]
  },
  {
   "cell_type": "code",
   "execution_count": 7,
   "metadata": {},
   "outputs": [
    {
     "ename": "TypeError",
     "evalue": "Object of type Person is not JSON serializable",
     "output_type": "error",
     "traceback": [
      "\u001b[1;31m---------------------------------------------------------------------------\u001b[0m",
      "\u001b[1;31mTypeError\u001b[0m                                 Traceback (most recent call last)",
      "Cell \u001b[1;32mIn[7], line 27\u001b[0m\n\u001b[0;32m     24\u001b[0m person \u001b[39m=\u001b[39m Person(\u001b[39m\"\u001b[39m\u001b[39mAlice\u001b[39m\u001b[39m\"\u001b[39m, \u001b[39m30\u001b[39m, addresses)\n\u001b[0;32m     26\u001b[0m \u001b[39m# Serialize the object to JSON using json.dumps() with custom serialization\u001b[39;00m\n\u001b[1;32m---> 27\u001b[0m json_string \u001b[39m=\u001b[39m json\u001b[39m.\u001b[39;49mdumps(person)\n\u001b[0;32m     29\u001b[0m \u001b[39m# Print the JSON string\u001b[39;00m\n\u001b[0;32m     30\u001b[0m \u001b[39mprint\u001b[39m(json_string)\n",
      "File \u001b[1;32md:\\Users\\Lenovo\\AppData\\Local\\Programs\\Python\\Python312\\Lib\\json\\__init__.py:231\u001b[0m, in \u001b[0;36mdumps\u001b[1;34m(obj, skipkeys, ensure_ascii, check_circular, allow_nan, cls, indent, separators, default, sort_keys, **kw)\u001b[0m\n\u001b[0;32m    226\u001b[0m \u001b[39m# cached encoder\u001b[39;00m\n\u001b[0;32m    227\u001b[0m \u001b[39mif\u001b[39;00m (\u001b[39mnot\u001b[39;00m skipkeys \u001b[39mand\u001b[39;00m ensure_ascii \u001b[39mand\u001b[39;00m\n\u001b[0;32m    228\u001b[0m     check_circular \u001b[39mand\u001b[39;00m allow_nan \u001b[39mand\u001b[39;00m\n\u001b[0;32m    229\u001b[0m     \u001b[39mcls\u001b[39m \u001b[39mis\u001b[39;00m \u001b[39mNone\u001b[39;00m \u001b[39mand\u001b[39;00m indent \u001b[39mis\u001b[39;00m \u001b[39mNone\u001b[39;00m \u001b[39mand\u001b[39;00m separators \u001b[39mis\u001b[39;00m \u001b[39mNone\u001b[39;00m \u001b[39mand\u001b[39;00m\n\u001b[0;32m    230\u001b[0m     default \u001b[39mis\u001b[39;00m \u001b[39mNone\u001b[39;00m \u001b[39mand\u001b[39;00m \u001b[39mnot\u001b[39;00m sort_keys \u001b[39mand\u001b[39;00m \u001b[39mnot\u001b[39;00m kw):\n\u001b[1;32m--> 231\u001b[0m     \u001b[39mreturn\u001b[39;00m _default_encoder\u001b[39m.\u001b[39;49mencode(obj)\n\u001b[0;32m    232\u001b[0m \u001b[39mif\u001b[39;00m \u001b[39mcls\u001b[39m \u001b[39mis\u001b[39;00m \u001b[39mNone\u001b[39;00m:\n\u001b[0;32m    233\u001b[0m     \u001b[39mcls\u001b[39m \u001b[39m=\u001b[39m JSONEncoder\n",
      "File \u001b[1;32md:\\Users\\Lenovo\\AppData\\Local\\Programs\\Python\\Python312\\Lib\\json\\encoder.py:200\u001b[0m, in \u001b[0;36mJSONEncoder.encode\u001b[1;34m(self, o)\u001b[0m\n\u001b[0;32m    196\u001b[0m         \u001b[39mreturn\u001b[39;00m encode_basestring(o)\n\u001b[0;32m    197\u001b[0m \u001b[39m# This doesn't pass the iterator directly to ''.join() because the\u001b[39;00m\n\u001b[0;32m    198\u001b[0m \u001b[39m# exceptions aren't as detailed.  The list call should be roughly\u001b[39;00m\n\u001b[0;32m    199\u001b[0m \u001b[39m# equivalent to the PySequence_Fast that ''.join() would do.\u001b[39;00m\n\u001b[1;32m--> 200\u001b[0m chunks \u001b[39m=\u001b[39m \u001b[39mself\u001b[39;49m\u001b[39m.\u001b[39;49miterencode(o, _one_shot\u001b[39m=\u001b[39;49m\u001b[39mTrue\u001b[39;49;00m)\n\u001b[0;32m    201\u001b[0m \u001b[39mif\u001b[39;00m \u001b[39mnot\u001b[39;00m \u001b[39misinstance\u001b[39m(chunks, (\u001b[39mlist\u001b[39m, \u001b[39mtuple\u001b[39m)):\n\u001b[0;32m    202\u001b[0m     chunks \u001b[39m=\u001b[39m \u001b[39mlist\u001b[39m(chunks)\n",
      "File \u001b[1;32md:\\Users\\Lenovo\\AppData\\Local\\Programs\\Python\\Python312\\Lib\\json\\encoder.py:258\u001b[0m, in \u001b[0;36mJSONEncoder.iterencode\u001b[1;34m(self, o, _one_shot)\u001b[0m\n\u001b[0;32m    253\u001b[0m \u001b[39melse\u001b[39;00m:\n\u001b[0;32m    254\u001b[0m     _iterencode \u001b[39m=\u001b[39m _make_iterencode(\n\u001b[0;32m    255\u001b[0m         markers, \u001b[39mself\u001b[39m\u001b[39m.\u001b[39mdefault, _encoder, \u001b[39mself\u001b[39m\u001b[39m.\u001b[39mindent, floatstr,\n\u001b[0;32m    256\u001b[0m         \u001b[39mself\u001b[39m\u001b[39m.\u001b[39mkey_separator, \u001b[39mself\u001b[39m\u001b[39m.\u001b[39mitem_separator, \u001b[39mself\u001b[39m\u001b[39m.\u001b[39msort_keys,\n\u001b[0;32m    257\u001b[0m         \u001b[39mself\u001b[39m\u001b[39m.\u001b[39mskipkeys, _one_shot)\n\u001b[1;32m--> 258\u001b[0m \u001b[39mreturn\u001b[39;00m _iterencode(o, \u001b[39m0\u001b[39;49m)\n",
      "File \u001b[1;32md:\\Users\\Lenovo\\AppData\\Local\\Programs\\Python\\Python312\\Lib\\json\\encoder.py:180\u001b[0m, in \u001b[0;36mJSONEncoder.default\u001b[1;34m(self, o)\u001b[0m\n\u001b[0;32m    161\u001b[0m \u001b[39mdef\u001b[39;00m \u001b[39mdefault\u001b[39m(\u001b[39mself\u001b[39m, o):\n\u001b[0;32m    162\u001b[0m \u001b[39m    \u001b[39m\u001b[39m\"\"\"Implement this method in a subclass such that it returns\u001b[39;00m\n\u001b[0;32m    163\u001b[0m \u001b[39m    a serializable object for ``o``, or calls the base implementation\u001b[39;00m\n\u001b[0;32m    164\u001b[0m \u001b[39m    (to raise a ``TypeError``).\u001b[39;00m\n\u001b[1;32m   (...)\u001b[0m\n\u001b[0;32m    178\u001b[0m \n\u001b[0;32m    179\u001b[0m \u001b[39m    \"\"\"\u001b[39;00m\n\u001b[1;32m--> 180\u001b[0m     \u001b[39mraise\u001b[39;00m \u001b[39mTypeError\u001b[39;00m(\u001b[39mf\u001b[39m\u001b[39m'\u001b[39m\u001b[39mObject of type \u001b[39m\u001b[39m{\u001b[39;00mo\u001b[39m.\u001b[39m\u001b[39m__class__\u001b[39m\u001b[39m.\u001b[39m\u001b[39m__name__\u001b[39m\u001b[39m}\u001b[39;00m\u001b[39m \u001b[39m\u001b[39m'\u001b[39m\n\u001b[0;32m    181\u001b[0m                     \u001b[39mf\u001b[39m\u001b[39m'\u001b[39m\u001b[39mis not JSON serializable\u001b[39m\u001b[39m'\u001b[39m)\n",
      "\u001b[1;31mTypeError\u001b[0m: Object of type Person is not JSON serializable"
     ]
    }
   ],
   "source": [
    "import json\n",
    "\n",
    "# Define a nested class\n",
    "class Address:\n",
    "    def __init__(self, street, city):\n",
    "        self.street = street\n",
    "        self.city = city\n",
    "\n",
    "# Define the main class with nested objects and a list\n",
    "class Person:\n",
    "    def __init__(self, name, age, address_list):\n",
    "        self.name = name\n",
    "        self.age = age\n",
    "        self.address_list = address_list\n",
    "\n",
    "# Create instances of nested classes\n",
    "address1 = Address(\"123 Main St\", \"City A\")\n",
    "address2 = Address(\"456 Elm St\", \"City B\")\n",
    "\n",
    "# Create a list of addresses\n",
    "addresses = [address1, address2]\n",
    "\n",
    "# Create an instance of the main class with nested objects and a list\n",
    "person = Person(\"Alice\", 30, addresses)\n",
    "\n",
    "# Serialize the object to JSON using json.dumps() with custom serialization\n",
    "json_string = json.dumps(person, default=lambda o: o.__dict__, sort_keys=True, indent=4)\n",
    "\n",
    "# Print the JSON string\n",
    "print(json_string)\n"
   ]
  },
  {
   "cell_type": "code",
   "execution_count": 1,
   "metadata": {},
   "outputs": [
    {
     "name": "stdout",
     "output_type": "stream",
     "text": [
      "{\"name\": \"Alice\", \"age\": 30, \"is_student\": false, \"grades\": [90, 85, 95]}\n"
     ]
    }
   ],
   "source": [
    "import json\n",
    "\n",
    "# Define a Python dictionary\n",
    "data = {\n",
    "    \"name\": \"Alice\",\n",
    "    \"age\": 30,\n",
    "    \"is_student\": False,\n",
    "    \"grades\": [90, 85, 95]\n",
    "}\n",
    "\n",
    "# Convert the dictionary to a JSON string\n",
    "json_string = json.dumps(data)\n",
    "\n",
    "print(json_string)\n"
   ]
  },
  {
   "cell_type": "code",
   "execution_count": 2,
   "metadata": {},
   "outputs": [
    {
     "data": {
      "text/plain": [
       "MyClass(person=Person(name='Alice', age=30), value=42)"
      ]
     },
     "execution_count": 2,
     "metadata": {},
     "output_type": "execute_result"
    }
   ],
   "source": [
    "from dataclasses import dataclass\n",
    "\n",
    "@dataclass\n",
    "class Person:\n",
    "    name: 'str'\n",
    "    age: int\n",
    "\n",
    "@dataclass\n",
    "class MyClass:\n",
    "    person: Person\n",
    "    value: int\n",
    "\n",
    "person_obj = Person(\"Alice\", 30)\n",
    "my_obj = MyClass(person_obj, 42)\n",
    "\n",
    "my_obj"
   ]
  },
  {
   "cell_type": "code",
   "execution_count": 2,
   "metadata": {},
   "outputs": [
    {
     "data": {
      "text/plain": [
       "Id                                                               3\n",
       "Name                                                         Class\n",
       "Shape Library                                                  UML\n",
       "Page ID                                                        2.0\n",
       "Contained By                                                   NaN\n",
       "Group                                                          NaN\n",
       "Status                                                         NaN\n",
       "Text Area 1                                                    Car\n",
       "Text Area 2      ​+ name:string = defaultValue\\n+ brand:string\\...\n",
       "Text Area 3      ​+ getYear():string\\n+ setYear(string year)\\n-...\n",
       "Comments                                                       NaN\n",
       "Name: 1, dtype: object"
      ]
     },
     "execution_count": 2,
     "metadata": {},
     "output_type": "execute_result"
    }
   ],
   "source": [
    "diagram_csv.loc[1]"
   ]
  },
  {
   "cell_type": "code",
   "execution_count": 3,
   "metadata": {},
   "outputs": [
    {
     "data": {
      "text/plain": [
       "'\\u200b+ name:string = defaultValue\\n+ brand:string\\n- year:int'"
      ]
     },
     "execution_count": 3,
     "metadata": {},
     "output_type": "execute_result"
    }
   ],
   "source": [
    "import models.LucidCSV as LucidCSV\n",
    "\n",
    "classCsv = LucidCSV.ClassCSV.seriesConvertor(diagram_csv.loc[1])\n",
    "classCsv.text_area2"
   ]
  },
  {
   "cell_type": "code",
   "execution_count": 4,
   "metadata": {},
   "outputs": [
    {
     "name": "stdout",
     "output_type": "stream",
     "text": [
      "public string name = defaultValue\n",
      "public string brand \n",
      "private int year \n"
     ]
    }
   ],
   "source": [
    "import re\n",
    "import models.PropNode as PropNode\n",
    "\n",
    "input_string = '\\u200b+ name:string = defaultValue\\n+ brand:string\\n- year:int'\n",
    "\n",
    "for propNode in PropNode.lucidRegexSlicer(input_string):\n",
    "  print(propNode.codeStr)"
   ]
  },
  {
   "cell_type": "code",
   "execution_count": 5,
   "metadata": {},
   "outputs": [
    {
     "name": "stdout",
     "output_type": "stream",
     "text": [
      "public string getYear() {\n",
      "    // method body\n",
      "  }\n",
      "public void setYear(string year) {\n",
      "    // method body\n",
      "  }\n",
      "private void calculatePrice() {\n",
      "    // method body\n",
      "  }\n"
     ]
    }
   ],
   "source": [
    "import models.MethodNode as MethodNode\n",
    "\n",
    "input_string = '\\u200b+ getYear():string\\n+ setYear(string year)\\n- calculatePrice()'\n",
    "\n",
    "for methodNode in MethodNode.lucidRegexSlicer(input_string):\n",
    "  print(methodNode.codeStr)"
   ]
  },
  {
   "cell_type": "code",
   "execution_count": 6,
   "metadata": {},
   "outputs": [
    {
     "data": {
      "text/plain": [
       "<models.LucidCSV.ClassCSV at 0x1727fc141a0>"
      ]
     },
     "execution_count": 6,
     "metadata": {},
     "output_type": "execute_result"
    }
   ],
   "source": [
    "class_csv = LucidCSV.ClassCSV.seriesConvertor(diagram_csv.loc[1])\n",
    "class_csv"
   ]
  },
  {
   "cell_type": "code",
   "execution_count": 7,
   "metadata": {},
   "outputs": [
    {
     "data": {
      "text/plain": [
       "<models.ClassNode.ClassNode at 0x172755b53a0>"
      ]
     },
     "execution_count": 7,
     "metadata": {},
     "output_type": "execute_result"
    }
   ],
   "source": [
    "import models.ClassNode as ClassNode\n",
    "class_node = ClassNode.ClassNode.csvConvertor(class_csv)\n",
    "class_node"
   ]
  },
  {
   "cell_type": "code",
   "execution_count": 8,
   "metadata": {},
   "outputs": [
    {
     "data": {
      "text/plain": [
       "'string'"
      ]
     },
     "execution_count": 8,
     "metadata": {},
     "output_type": "execute_result"
    }
   ],
   "source": [
    "class_node.props[0].dtype"
   ]
  },
  {
   "cell_type": "code",
   "execution_count": 9,
   "metadata": {},
   "outputs": [
    {
     "name": "stdout",
     "output_type": "stream",
     "text": [
      "\n",
      "class Car {\n",
      "  // Fields\n",
      "  public string name = defaultValue;\n",
      "  public string brand ;\n",
      "  private int year ;\n",
      "  \n",
      "  // Constructor\n",
      "  public Car(string name, string brand, int year, ) {\n",
      "      this.name = name;\n",
      "      this.brand = brand;\n",
      "      this.year = year;\n",
      "      \n",
      "  }\n",
      "\n",
      "  // Methods\n",
      "  public string getYear() {\n",
      "    // method body\n",
      "  }\n",
      "  public void setYear(string year) {\n",
      "    // method body\n",
      "  }\n",
      "  private void calculatePrice() {\n",
      "    // method body\n",
      "  }\n",
      "  \n",
      "}\n",
      "  \n"
     ]
    }
   ],
   "source": [
    "import models.JavaClassTemplate as JavaClassTemplate\n",
    "java_class_template = JavaClassTemplate.classNodeConvertor(class_node= class_node)\n",
    "print(java_class_template.codeStr)"
   ]
  },
  {
   "cell_type": "code",
   "execution_count": 10,
   "metadata": {},
   "outputs": [
    {
     "name": "stdout",
     "output_type": "stream",
     "text": [
      "Java code written to file_name\n"
     ]
    }
   ],
   "source": [
    "with open('file_name.java', \"w\") as java_file:\n",
    "    java_file.write(java_class_template.codeStr)\n",
    "\n",
    "print(f\"Java code written to file_name\")"
   ]
  }
 ],
 "metadata": {
  "kernelspec": {
   "display_name": "Python 3",
   "language": "python",
   "name": "python3"
  },
  "language_info": {
   "codemirror_mode": {
    "name": "ipython",
    "version": 3
   },
   "file_extension": ".py",
   "mimetype": "text/x-python",
   "name": "python",
   "nbconvert_exporter": "python",
   "pygments_lexer": "ipython3",
   "version": "3.12.1"
  },
  "orig_nbformat": 4
 },
 "nbformat": 4,
 "nbformat_minor": 2
}
