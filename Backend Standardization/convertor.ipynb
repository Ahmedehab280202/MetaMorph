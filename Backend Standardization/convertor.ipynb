{
 "cells": [
  {
   "cell_type": "code",
   "execution_count": 1,
   "metadata": {},
   "outputs": [
    {
     "data": {
      "text/html": [
       "<div>\n",
       "<style scoped>\n",
       "    .dataframe tbody tr th:only-of-type {\n",
       "        vertical-align: middle;\n",
       "    }\n",
       "\n",
       "    .dataframe tbody tr th {\n",
       "        vertical-align: top;\n",
       "    }\n",
       "\n",
       "    .dataframe thead th {\n",
       "        text-align: right;\n",
       "    }\n",
       "</style>\n",
       "<table border=\"1\" class=\"dataframe\">\n",
       "  <thead>\n",
       "    <tr style=\"text-align: right;\">\n",
       "      <th></th>\n",
       "      <th>Id</th>\n",
       "      <th>Name</th>\n",
       "      <th>Shape Library</th>\n",
       "      <th>Page ID</th>\n",
       "      <th>Contained By</th>\n",
       "      <th>Group</th>\n",
       "      <th>Status</th>\n",
       "      <th>Text Area 1</th>\n",
       "      <th>Text Area 2</th>\n",
       "      <th>Text Area 3</th>\n",
       "      <th>Comments</th>\n",
       "    </tr>\n",
       "  </thead>\n",
       "  <tbody>\n",
       "    <tr>\n",
       "      <th>0</th>\n",
       "      <td>1</td>\n",
       "      <td>Document</td>\n",
       "      <td>NaN</td>\n",
       "      <td>NaN</td>\n",
       "      <td>NaN</td>\n",
       "      <td>NaN</td>\n",
       "      <td>Draft</td>\n",
       "      <td>diagram</td>\n",
       "      <td>NaN</td>\n",
       "      <td>NaN</td>\n",
       "      <td>NaN</td>\n",
       "    </tr>\n",
       "    <tr>\n",
       "      <th>1</th>\n",
       "      <td>3</td>\n",
       "      <td>Class</td>\n",
       "      <td>UML</td>\n",
       "      <td>2.0</td>\n",
       "      <td>NaN</td>\n",
       "      <td>NaN</td>\n",
       "      <td>NaN</td>\n",
       "      <td>Car</td>\n",
       "      <td>​+ name:string = defaultValue\\n+ brand:string\\...</td>\n",
       "      <td>​+ getYear():string\\n+ setYear(string year)\\n-...</td>\n",
       "      <td>NaN</td>\n",
       "    </tr>\n",
       "  </tbody>\n",
       "</table>\n",
       "</div>"
      ],
      "text/plain": [
       "   Id      Name Shape Library  Page ID  Contained By  Group Status  \\\n",
       "0   1  Document           NaN      NaN           NaN    NaN  Draft   \n",
       "1   3     Class           UML      2.0           NaN    NaN    NaN   \n",
       "\n",
       "  Text Area 1                                        Text Area 2  \\\n",
       "0     diagram                                                NaN   \n",
       "1         Car  ​+ name:string = defaultValue\\n+ brand:string\\...   \n",
       "\n",
       "                                         Text Area 3  Comments  \n",
       "0                                                NaN       NaN  \n",
       "1  ​+ getYear():string\\n+ setYear(string year)\\n-...       NaN  "
      ]
     },
     "execution_count": 1,
     "metadata": {},
     "output_type": "execute_result"
    }
   ],
   "source": [
    "import pandas as pd\n",
    "diagram_csv = pd.read_csv('diagram.csv')\n",
    "diagram_csv"
   ]
  },
  {
   "cell_type": "code",
   "execution_count": 2,
   "metadata": {},
   "outputs": [
    {
     "data": {
      "text/plain": [
       "Id                                                               3\n",
       "Name                                                         Class\n",
       "Shape Library                                                  UML\n",
       "Page ID                                                        2.0\n",
       "Contained By                                                   NaN\n",
       "Group                                                          NaN\n",
       "Status                                                         NaN\n",
       "Text Area 1                                                    Car\n",
       "Text Area 2      ​+ name:string = defaultValue\\n+ brand:string\\...\n",
       "Text Area 3      ​+ getYear():string\\n+ setYear(string year)\\n-...\n",
       "Comments                                                       NaN\n",
       "Name: 1, dtype: object"
      ]
     },
     "execution_count": 2,
     "metadata": {},
     "output_type": "execute_result"
    }
   ],
   "source": [
    "diagram_csv.loc[1]"
   ]
  },
  {
   "cell_type": "code",
   "execution_count": 3,
   "metadata": {},
   "outputs": [
    {
     "data": {
      "text/plain": [
       "'\\u200b+ name:string = defaultValue\\n+ brand:string\\n- year:int'"
      ]
     },
     "execution_count": 3,
     "metadata": {},
     "output_type": "execute_result"
    }
   ],
   "source": [
    "import models.LucidCSV as LucidCSV\n",
    "\n",
    "classCsv = LucidCSV.ClassCSV.seriesConvertor(diagram_csv.loc[1])\n",
    "classCsv.text_area2"
   ]
  },
  {
   "cell_type": "code",
   "execution_count": 4,
   "metadata": {},
   "outputs": [
    {
     "name": "stdout",
     "output_type": "stream",
     "text": [
      "public string name = defaultValue\n",
      "public string brand \n",
      "private int year \n"
     ]
    }
   ],
   "source": [
    "import re\n",
    "import models.PropNode as PropNode\n",
    "\n",
    "input_string = '\\u200b+ name:string = defaultValue\\n+ brand:string\\n- year:int'\n",
    "\n",
    "for propNode in PropNode.lucidRegexSlicer(input_string):\n",
    "  print(propNode.codeStr)"
   ]
  },
  {
   "cell_type": "code",
   "execution_count": 5,
   "metadata": {},
   "outputs": [
    {
     "name": "stdout",
     "output_type": "stream",
     "text": [
      "public string getYear() {\n",
      "    // method body\n",
      "  }\n",
      "public void setYear(string year) {\n",
      "    // method body\n",
      "  }\n",
      "private void calculatePrice() {\n",
      "    // method body\n",
      "  }\n"
     ]
    }
   ],
   "source": [
    "import models.MethodNode as MethodNode\n",
    "\n",
    "input_string = '\\u200b+ getYear():string\\n+ setYear(string year)\\n- calculatePrice()'\n",
    "\n",
    "for methodNode in MethodNode.lucidRegexSlicer(input_string):\n",
    "  print(methodNode.codeStr)"
   ]
  },
  {
   "cell_type": "code",
   "execution_count": 6,
   "metadata": {},
   "outputs": [
    {
     "data": {
      "text/plain": [
       "<models.LucidCSV.ClassCSV at 0x1727fc141a0>"
      ]
     },
     "execution_count": 6,
     "metadata": {},
     "output_type": "execute_result"
    }
   ],
   "source": [
    "class_csv = LucidCSV.ClassCSV.seriesConvertor(diagram_csv.loc[1])\n",
    "class_csv"
   ]
  },
  {
   "cell_type": "code",
   "execution_count": 7,
   "metadata": {},
   "outputs": [
    {
     "data": {
      "text/plain": [
       "<models.ClassNode.ClassNode at 0x172755b53a0>"
      ]
     },
     "execution_count": 7,
     "metadata": {},
     "output_type": "execute_result"
    }
   ],
   "source": [
    "import models.ClassNode as ClassNode\n",
    "class_node = ClassNode.ClassNode.csvConvertor(class_csv)\n",
    "class_node"
   ]
  },
  {
   "cell_type": "code",
   "execution_count": 8,
   "metadata": {},
   "outputs": [
    {
     "data": {
      "text/plain": [
       "'string'"
      ]
     },
     "execution_count": 8,
     "metadata": {},
     "output_type": "execute_result"
    }
   ],
   "source": [
    "class_node.props[0].dtype"
   ]
  },
  {
   "cell_type": "code",
   "execution_count": 9,
   "metadata": {},
   "outputs": [
    {
     "name": "stdout",
     "output_type": "stream",
     "text": [
      "\n",
      "class Car {\n",
      "  // Fields\n",
      "  public string name = defaultValue;\n",
      "  public string brand ;\n",
      "  private int year ;\n",
      "  \n",
      "  // Constructor\n",
      "  public Car(string name, string brand, int year, ) {\n",
      "      this.name = name;\n",
      "      this.brand = brand;\n",
      "      this.year = year;\n",
      "      \n",
      "  }\n",
      "\n",
      "  // Methods\n",
      "  public string getYear() {\n",
      "    // method body\n",
      "  }\n",
      "  public void setYear(string year) {\n",
      "    // method body\n",
      "  }\n",
      "  private void calculatePrice() {\n",
      "    // method body\n",
      "  }\n",
      "  \n",
      "}\n",
      "  \n"
     ]
    }
   ],
   "source": [
    "import models.JavaClassTemplate as JavaClassTemplate\n",
    "java_class_template = JavaClassTemplate.classNodeConvertor(class_node= class_node)\n",
    "print(java_class_template.codeStr)"
   ]
  },
  {
   "cell_type": "code",
   "execution_count": 10,
   "metadata": {},
   "outputs": [
    {
     "name": "stdout",
     "output_type": "stream",
     "text": [
      "Java code written to file_name\n"
     ]
    }
   ],
   "source": [
    "with open('file_name.java', \"w\") as java_file:\n",
    "    java_file.write(java_class_template.codeStr)\n",
    "\n",
    "print(f\"Java code written to file_name\")"
   ]
  }
 ],
 "metadata": {
  "kernelspec": {
   "display_name": "Python 3",
   "language": "python",
   "name": "python3"
  },
  "language_info": {
   "codemirror_mode": {
    "name": "ipython",
    "version": 3
   },
   "file_extension": ".py",
   "mimetype": "text/x-python",
   "name": "python",
   "nbconvert_exporter": "python",
   "pygments_lexer": "ipython3",
   "version": "3.12.1"
  },
  "orig_nbformat": 4
 },
 "nbformat": 4,
 "nbformat_minor": 2
}
